{
 "cells": [
  {
   "cell_type": "code",
   "execution_count": 2,
   "metadata": {},
   "outputs": [
    {
     "ename": "ValueError",
     "evalue": "Dataset name 'cctv_guns_hackathon' is not available",
     "output_type": "error",
     "traceback": [
      "\u001b[31m---------------------------------------------------------------------------\u001b[39m",
      "\u001b[31mValueError\u001b[39m                                Traceback (most recent call last)",
      "\u001b[32m/var/folders/5r/pvs4s_8x15xcxy0xlf9pbnv40000gn/T/ipykernel_31562/1953313585.py\u001b[39m in \u001b[36m?\u001b[39m\u001b[34m()\u001b[39m\n\u001b[32m      1\u001b[39m \u001b[38;5;66;03m# Create a new dataset and import the data in Pascal VOC format in one step\u001b[39;00m\n\u001b[32m----> \u001b[39m\u001b[32m2\u001b[39m dataset = fo.Dataset.from_dir(\n\u001b[32m      3\u001b[39m     dataset_dir=\u001b[33m'Images'\u001b[39m,\n\u001b[32m      4\u001b[39m     dataset_type=fo.types.VOCDetectionDataset,\n\u001b[32m      5\u001b[39m     name=\u001b[33m\"cctv_guns_hackathon\"\u001b[39m\n",
      "\u001b[32m~/Desktop/hackathon-gun-detection/newvenv/lib/python3.13/site-packages/fiftyone/core/dataset.py\u001b[39m in \u001b[36m?\u001b[39m\u001b[34m(cls, dataset_dir, dataset_type, data_path, labels_path, name, persistent, overwrite, label_field, tags, dynamic, progress, **kwargs)\u001b[39m\n\u001b[32m   6775\u001b[39m \n\u001b[32m   6776\u001b[39m         Returns:\n\u001b[32m   6777\u001b[39m             a :\u001b[38;5;28;01mclass\u001b[39;00m:`Dataset`\n\u001b[32m   6778\u001b[39m         \"\"\"\n\u001b[32m-> \u001b[39m\u001b[32m6779\u001b[39m         dataset = cls(name, persistent=persistent, overwrite=overwrite)\n\u001b[32m   6780\u001b[39m         dataset.add_dir(\n\u001b[32m   6781\u001b[39m             dataset_dir=dataset_dir,\n\u001b[32m   6782\u001b[39m             dataset_type=dataset_type,\n",
      "\u001b[32m~/Desktop/hackathon-gun-detection/newvenv/lib/python3.13/site-packages/fiftyone/core/singletons.py\u001b[39m in \u001b[36m?\u001b[39m\u001b[34m(cls, name, _create, *args, **kwargs)\u001b[39m\n\u001b[32m     33\u001b[39m             \u001b[38;5;28;01mor\u001b[39;00m instance.deleted\n\u001b[32m     34\u001b[39m             \u001b[38;5;28;01mor\u001b[39;00m instance.name \u001b[38;5;28;01mis\u001b[39;00m \u001b[38;5;28;01mNone\u001b[39;00m\n\u001b[32m     35\u001b[39m         ):\n\u001b[32m     36\u001b[39m             instance = cls.__new__(cls)\n\u001b[32m---> \u001b[39m\u001b[32m37\u001b[39m             instance.__init__(name=name, _create=_create, *args, **kwargs)\n\u001b[32m     38\u001b[39m             name = instance.name  \u001b[38;5;66;03m# `__init__` may have changed `name`\u001b[39;00m\n\u001b[32m     39\u001b[39m         \u001b[38;5;28;01melse\u001b[39;00m:\n\u001b[32m     40\u001b[39m             \u001b[38;5;28;01mtry\u001b[39;00m:\n",
      "\u001b[32m~/Desktop/hackathon-gun-detection/newvenv/lib/python3.13/site-packages/fiftyone/core/dataset.py\u001b[39m in \u001b[36m?\u001b[39m\u001b[34m(self, name, persistent, overwrite, _create, _virtual, **kwargs)\u001b[39m\n\u001b[32m    324\u001b[39m         \u001b[38;5;28;01mif\u001b[39;00m overwrite \u001b[38;5;28;01mand\u001b[39;00m dataset_exists(name):\n\u001b[32m    325\u001b[39m             delete_dataset(name)\n\u001b[32m    326\u001b[39m \n\u001b[32m    327\u001b[39m         \u001b[38;5;28;01mif\u001b[39;00m _create:\n\u001b[32m--> \u001b[39m\u001b[32m328\u001b[39m             doc, sample_doc_cls, frame_doc_cls = _create_dataset(\n\u001b[32m    329\u001b[39m                 self, name, persistent=persistent, **kwargs\n\u001b[32m    330\u001b[39m             )\n\u001b[32m    331\u001b[39m         \u001b[38;5;28;01melse\u001b[39;00m:\n",
      "\u001b[32m~/Desktop/hackathon-gun-detection/newvenv/lib/python3.13/site-packages/fiftyone/core/dataset.py\u001b[39m in \u001b[36m?\u001b[39m\u001b[34m(obj, name, persistent, _patches, _frames, _clips, _src_collection)\u001b[39m\n\u001b[32m   8169\u001b[39m     _frames=\u001b[38;5;28;01mFalse\u001b[39;00m,\n\u001b[32m   8170\u001b[39m     _clips=\u001b[38;5;28;01mFalse\u001b[39;00m,\n\u001b[32m   8171\u001b[39m     _src_collection=\u001b[38;5;28;01mNone\u001b[39;00m,\n\u001b[32m   8172\u001b[39m ):\n\u001b[32m-> \u001b[39m\u001b[32m8173\u001b[39m     slug = _validate_dataset_name(name)\n\u001b[32m   8174\u001b[39m \n\u001b[32m   8175\u001b[39m     _id = ObjectId()\n\u001b[32m   8176\u001b[39m     now = datetime.utcnow()\n",
      "\u001b[32m~/Desktop/hackathon-gun-detection/newvenv/lib/python3.13/site-packages/fiftyone/core/dataset.py\u001b[39m in \u001b[36m?\u001b[39m\u001b[34m(name, skip)\u001b[39m\n\u001b[32m    131\u001b[39m     )\n\u001b[32m    132\u001b[39m     \u001b[38;5;28;01mif\u001b[39;00m clashing_name_doc \u001b[38;5;28;01mis\u001b[39;00m \u001b[38;5;28;01mnot\u001b[39;00m \u001b[38;5;28;01mNone\u001b[39;00m:\n\u001b[32m    133\u001b[39m         clashing_name = clashing_name_doc[\u001b[33m\"name\"\u001b[39m]\n\u001b[32m    134\u001b[39m         \u001b[38;5;28;01mif\u001b[39;00m clashing_name == name:\n\u001b[32m--> \u001b[39m\u001b[32m135\u001b[39m             \u001b[38;5;28;01mraise\u001b[39;00m ValueError(f\"Dataset name '{name}' is not available\")\n\u001b[32m    136\u001b[39m         \u001b[38;5;28;01melse\u001b[39;00m:\n\u001b[32m    137\u001b[39m             raise ValueError(\n\u001b[32m    138\u001b[39m                 f\"Dataset name '{name}' is not available: slug '{slug}' \"\n",
      "\u001b[31mValueError\u001b[39m: Dataset name 'cctv_guns_hackathon' is not available"
     ]
    }
   ],
   "source": [
    "# Create a new dataset and import the data in Pascal VOC format in one step\n",
    "dataset = fo.Dataset.from_dir(\n",
    "    dataset_dir='Images',\n",
    "    dataset_type=fo.types.VOCDetectionDataset,\n",
    "    name=\"cctv_guns_hackathon\"\n",
    ")\n"
   ]
  },
  {
   "cell_type": "code",
   "execution_count": 1,
   "metadata": {},
   "outputs": [],
   "source": [
    "import fiftyone as fo\n",
    "import fiftyone.zoo as foz\n",
    "import fiftyone.utils.ultralytics as fou\n"
   ]
  },
  {
   "cell_type": "code",
   "execution_count": null,
   "metadata": {},
   "outputs": [],
   "source": []
  },
  {
   "cell_type": "code",
   "execution_count": null,
   "metadata": {},
   "outputs": [],
   "source": []
  },
  {
   "cell_type": "code",
   "execution_count": null,
   "metadata": {},
   "outputs": [],
   "source": []
  },
  {
   "cell_type": "code",
   "execution_count": 3,
   "metadata": {},
   "outputs": [],
   "source": [
    "# Use an existing dataset in another session:\n",
    "dataset = fo.load_dataset(\"cctv_guns_hackathon_new\")\n"
   ]
  },
  {
   "cell_type": "code",
   "execution_count": 4,
   "metadata": {},
   "outputs": [
    {
     "data": {
      "text/html": [
       "\n",
       "        <iframe\n",
       "            width=\"100%\"\n",
       "            height=\"800\"\n",
       "            src=\"http://localhost:5151/?notebook=True&subscription=c08d3f61-c05f-48e3-8215-2a39d2af6197\"\n",
       "            frameborder=\"0\"\n",
       "            allowfullscreen\n",
       "            \n",
       "        ></iframe>\n",
       "        "
      ],
      "text/plain": [
       "<IPython.lib.display.IFrame at 0x16b8be660>"
      ]
     },
     "metadata": {},
     "output_type": "display_data"
    },
    {
     "name": "stdout",
     "output_type": "stream",
     "text": [
      "\n",
      "Welcome to\n",
      "\n",
      "███████╗██╗███████╗████████╗██╗   ██╗ ██████╗ ███╗   ██╗███████╗\n",
      "██╔════╝██║██╔════╝╚══██╔══╝╚██╗ ██╔╝██╔═══██╗████╗  ██║██╔════╝\n",
      "█████╗  ██║█████╗     ██║    ╚████╔╝ ██║   ██║██╔██╗ ██║█████╗\n",
      "██╔══╝  ██║██╔══╝     ██║     ╚██╔╝  ██║   ██║██║╚██╗██║██╔══╝\n",
      "██║     ██║██║        ██║      ██║   ╚██████╔╝██║ ╚████║███████╗\n",
      "╚═╝     ╚═╝╚═╝        ╚═╝      ╚═╝    ╚═════╝ ╚═╝  ╚═══╝╚══════╝ v1.4.1\n",
      "\n",
      "If you're finding FiftyOne helpful, here's how you can get involved:\n",
      "\n",
      "|\n",
      "|  ⭐⭐⭐ Give the project a star on GitHub ⭐⭐⭐\n",
      "|  https://github.com/voxel51/fiftyone\n",
      "|\n",
      "|  🚀🚀🚀 Join the FiftyOne Discord community 🚀🚀🚀\n",
      "|  https://community.voxel51.com/\n",
      "|\n",
      "\n"
     ]
    }
   ],
   "source": [
    "# Launch the FiftyOne App to visualize your dataset\n",
    "session = fo.launch_app(dataset)\n"
   ]
  },
  {
   "cell_type": "code",
   "execution_count": null,
   "metadata": {},
   "outputs": [],
   "source": [
    "session.close()\n"
   ]
  },
  {
   "cell_type": "code",
   "execution_count": null,
   "metadata": {},
   "outputs": [],
   "source": [
    "# Launch the app to visualize the results\n",
    "session = fo.launch_app(dataset)\n"
   ]
  },
  {
   "cell_type": "code",
   "execution_count": null,
   "metadata": {},
   "outputs": [],
   "source": [
    "\n",
    "\n",
    "\n",
    "# The path to export the dataset\n",
    "EXPORT_DIR = \"/tmp/oiv7-yolo\"\n",
    "\n",
    "# Prepare train split\n",
    "\n",
    "train = foz.load_zoo_dataset(\n",
    "    \"open-images-v7\",\n",
    "    split=\"train\",\n",
    "    label_types=[\"detections\"],\n",
    "    max_samples=100,\n",
    ")\n",
    "\n",
    "# YOLO format requires a common classes list\n",
    "classes = train.default_classes\n",
    "\n",
    "train.export(\n",
    "    export_dir=EXPORT_DIR,\n",
    "    dataset_type=fo.types.YOLOv5Dataset,\n",
    "    label_field=\"ground_truth\",\n",
    "    split=\"train\",\n",
    "    classes=classes,\n",
    ")\n",
    "\n",
    "# Prepare validation split\n",
    "\n",
    "validation = foz.load_zoo_dataset(\n",
    "    \"open-images-v7\",\n",
    "    split=\"validation\",\n",
    "    label_types=[\"detections\"],\n",
    "    max_samples=10,\n",
    ")\n",
    "\n",
    "validation.export(\n",
    "    export_dir=EXPORT_DIR,\n",
    "    dataset_type=fo.types.YOLOv5Dataset,\n",
    "    label_field=\"ground_truth\",\n",
    "    split=\"val\",  # Ultralytics uses 'val'\n",
    "    classes=classes,\n",
    ")\n"
   ]
  }
 ],
 "metadata": {
  "kernelspec": {
   "display_name": "newvenv",
   "language": "python",
   "name": "python3"
  },
  "language_info": {
   "codemirror_mode": {
    "name": "ipython",
    "version": 3
   },
   "file_extension": ".py",
   "mimetype": "text/x-python",
   "name": "python",
   "nbconvert_exporter": "python",
   "pygments_lexer": "ipython3",
   "version": "3.13.2"
  }
 },
 "nbformat": 4,
 "nbformat_minor": 2
}
